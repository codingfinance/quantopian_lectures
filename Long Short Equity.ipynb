{
 "cells": [
  {
   "cell_type": "markdown",
   "metadata": {},
   "source": [
    "# Long-Short Equity Strategies"
   ]
  },
  {
   "cell_type": "markdown",
   "metadata": {},
   "source": [
    "Long short equity strategies generally involve buying (going long) stocks and also selling (going short) shorts. The weights and the number of stocks to go long or short may vary based on the out look of the portfolio manager. If they have a bullish titlt, they may choose to have a net long portfolio. On the other hand ig they have a bearish titlt they may have net short portfolio."
   ]
  },
  {
   "cell_type": "markdown",
   "metadata": {},
   "source": [
    "Most times portfolio managers will prefer to stay dollar neutral i.e. go long and short equal dollar amount. This ensures that the strategy remains market neutral."
   ]
  },
  {
   "cell_type": "markdown",
   "metadata": {},
   "source": [
    "These strategies generally involve ranking all the stocks in the universe (based on some criteria or factor). The strategy then goes long `top n` ranked stocks and shorts the `bottom n` ranked stocks. "
   ]
  },
  {
   "cell_type": "markdown",
   "metadata": {},
   "source": [
    "The ranking can be based on \n",
    "- Value factors\n",
    "- Technical factors\n",
    "- Momentum factors\n",
    "\n",
    "Or a combination of the above factors"
   ]
  },
  {
   "cell_type": "markdown",
   "metadata": {},
   "source": [
    "The portfolio returns are dependent on how well the ranking spreads work out. We will makeup some random data below."
   ]
  },
  {
   "cell_type": "code",
   "execution_count": 1,
   "metadata": {},
   "outputs": [],
   "source": [
    "import numpy as np\n",
    "import pandas as pd\n",
    "import matplotlib.pyplot as plt"
   ]
  },
  {
   "cell_type": "code",
   "execution_count": 2,
   "metadata": {},
   "outputs": [
    {
     "data": {
      "text/html": [
       "<div>\n",
       "<table border=\"1\" class=\"dataframe\">\n",
       "  <thead>\n",
       "    <tr style=\"text-align: right;\">\n",
       "      <th></th>\n",
       "      <th>factor_value</th>\n",
       "    </tr>\n",
       "  </thead>\n",
       "  <tbody>\n",
       "    <tr>\n",
       "      <th>Equity0</th>\n",
       "      <td>-1.832911</td>\n",
       "    </tr>\n",
       "    <tr>\n",
       "      <th>Equity1</th>\n",
       "      <td>0.751536</td>\n",
       "    </tr>\n",
       "    <tr>\n",
       "      <th>Equity2</th>\n",
       "      <td>-0.532982</td>\n",
       "    </tr>\n",
       "    <tr>\n",
       "      <th>Equity3</th>\n",
       "      <td>-1.181411</td>\n",
       "    </tr>\n",
       "    <tr>\n",
       "      <th>Equity4</th>\n",
       "      <td>0.507476</td>\n",
       "    </tr>\n",
       "  </tbody>\n",
       "</table>\n",
       "</div>"
      ],
      "text/plain": [
       "         factor_value\n",
       "Equity0     -1.832911\n",
       "Equity1      0.751536\n",
       "Equity2     -0.532982\n",
       "Equity3     -1.181411\n",
       "Equity4      0.507476"
      ]
     },
     "execution_count": 2,
     "metadata": {},
     "output_type": "execute_result"
    }
   ],
   "source": [
    "current_factors_values = np.random.normal(0,1,10000)\n",
    "equity_names = ['Equity' + str(x) for x in range(10000)]\n",
    "\n",
    "factor_data = pd.Series(current_factors_values, index = equity_names)\n",
    "\n",
    "factor_data = pd.DataFrame(factor_data, columns=['factor_value'])\n",
    "\n",
    "factor_data.head()"
   ]
  },
  {
   "cell_type": "markdown",
   "metadata": {},
   "source": [
    "In the above code we made up 10000 equity factors. "
   ]
  },
  {
   "cell_type": "code",
   "execution_count": 3,
   "metadata": {},
   "outputs": [
    {
     "data": {
      "text/plain": [
       "10000"
      ]
     },
     "execution_count": 3,
     "metadata": {},
     "output_type": "execute_result"
    }
   ],
   "source": [
    "len(factor_data)"
   ]
  },
  {
   "cell_type": "markdown",
   "metadata": {},
   "source": [
    "Now lets add some random values to those factors. This will act as our future returns for the equities."
   ]
  },
  {
   "cell_type": "code",
   "execution_count": 4,
   "metadata": {},
   "outputs": [
    {
     "data": {
      "text/html": [
       "<div>\n",
       "<table border=\"1\" class=\"dataframe\">\n",
       "  <thead>\n",
       "    <tr style=\"text-align: right;\">\n",
       "      <th></th>\n",
       "      <th>Returns</th>\n",
       "      <th>factor_value</th>\n",
       "    </tr>\n",
       "  </thead>\n",
       "  <tbody>\n",
       "    <tr>\n",
       "      <th>Equity0</th>\n",
       "      <td>-1.979975</td>\n",
       "      <td>-1.832911</td>\n",
       "    </tr>\n",
       "    <tr>\n",
       "      <th>Equity1</th>\n",
       "      <td>0.612166</td>\n",
       "      <td>0.751536</td>\n",
       "    </tr>\n",
       "    <tr>\n",
       "      <th>Equity2</th>\n",
       "      <td>-0.186578</td>\n",
       "      <td>-0.532982</td>\n",
       "    </tr>\n",
       "    <tr>\n",
       "      <th>Equity3</th>\n",
       "      <td>1.209441</td>\n",
       "      <td>-1.181411</td>\n",
       "    </tr>\n",
       "    <tr>\n",
       "      <th>Equity4</th>\n",
       "      <td>-1.039612</td>\n",
       "      <td>0.507476</td>\n",
       "    </tr>\n",
       "    <tr>\n",
       "      <th>Equity5</th>\n",
       "      <td>-0.734017</td>\n",
       "      <td>0.514521</td>\n",
       "    </tr>\n",
       "    <tr>\n",
       "      <th>Equity6</th>\n",
       "      <td>1.910402</td>\n",
       "      <td>0.354395</td>\n",
       "    </tr>\n",
       "    <tr>\n",
       "      <th>Equity7</th>\n",
       "      <td>-0.949727</td>\n",
       "      <td>-0.318832</td>\n",
       "    </tr>\n",
       "    <tr>\n",
       "      <th>Equity8</th>\n",
       "      <td>-1.598258</td>\n",
       "      <td>-1.659698</td>\n",
       "    </tr>\n",
       "    <tr>\n",
       "      <th>Equity9</th>\n",
       "      <td>-0.129542</td>\n",
       "      <td>-1.219689</td>\n",
       "    </tr>\n",
       "  </tbody>\n",
       "</table>\n",
       "</div>"
      ],
      "text/plain": [
       "          Returns  factor_value\n",
       "Equity0 -1.979975     -1.832911\n",
       "Equity1  0.612166      0.751536\n",
       "Equity2 -0.186578     -0.532982\n",
       "Equity3  1.209441     -1.181411\n",
       "Equity4 -1.039612      0.507476\n",
       "Equity5 -0.734017      0.514521\n",
       "Equity6  1.910402      0.354395\n",
       "Equity7 -0.949727     -0.318832\n",
       "Equity8 -1.598258     -1.659698\n",
       "Equity9 -0.129542     -1.219689"
      ]
     },
     "execution_count": 4,
     "metadata": {},
     "output_type": "execute_result"
    }
   ],
   "source": [
    "future_returns = current_factors_values + np.random.normal(0,1,10000)\n",
    "\n",
    "return_data = pd.Series(future_returns, index = equity_names)\n",
    "\n",
    "return_data = pd.DataFrame(return_data, columns = ['Returns'])\n",
    "\n",
    "data = return_data.join(factor_data)\n",
    "\n",
    "data.head(10)"
   ]
  },
  {
   "cell_type": "markdown",
   "metadata": {},
   "source": [
    "In the above data frame we have the 10000 factors and the future returns of those factors."
   ]
  },
  {
   "cell_type": "markdown",
   "metadata": {},
   "source": [
    "Now that we have the factor values and the returns, we can see what would happen if we ranked our equities based on factors and then entered long and short positions on those stocks."
   ]
  },
  {
   "cell_type": "markdown",
   "metadata": {},
   "source": [
    "We will divide the stocks into a basket of 500 stocks."
   ]
  },
  {
   "cell_type": "code",
   "execution_count": 5,
   "metadata": {},
   "outputs": [
    {
     "data": {
      "image/png": "[encoded data removed]",
      "text/plain": [
       "<matplotlib.figure.Figure at 0x7fea9aac9470>"
      ]
     },
     "metadata": {},
     "output_type": "display_data"
    }
   ],
   "source": [
    "# Ranking all the stocks\n",
    "ranked_data = data.sort_values('factor_value')\n",
    "\n",
    "# Dividing them into baskets of 500\n",
    "number_of_baskets = 10000//500\n",
    "\n",
    "# Create an empty array to store the returns\n",
    "\n",
    "basket_returns = np.zeros(number_of_baskets)\n",
    "\n",
    "# For\n",
    "for i in range(number_of_baskets):\n",
    "    \n",
    "    start = i * 500\n",
    "    end = i * 500 + 500\n",
    "    basket_returns[i] = ranked_data[start:end]['Returns'].mean()\n",
    "    \n",
    "plt.bar(range(number_of_baskets),\n",
    "       basket_returns)\n",
    "\n",
    "plt.ylabel('Returns')\n",
    "plt.xlabel('Basket')\n",
    "plt.legend(['Returns of Each Basket']);"
   ]
  },
  {
   "cell_type": "markdown",
   "metadata": {},
   "source": [
    "We can see above the returns of the different baskets of stocks. Lets calculate the returns if we go long the top basket and short the bottom basket."
   ]
  },
  {
   "cell_type": "code",
   "execution_count": 6,
   "metadata": {},
   "outputs": [
    {
     "data": {
      "text/plain": [
       "4.1835166231707799"
      ]
     },
     "execution_count": 6,
     "metadata": {},
     "output_type": "execute_result"
    }
   ],
   "source": [
    "basket_returns[number_of_baskets-1] - basket_returns[0]"
   ]
  },
  {
   "cell_type": "markdown",
   "metadata": {},
   "source": [
    "As we can see the, the strategies edge comes from the ranking schemes that we utilized. \n",
    "\n",
    "There are several other things that will affect our strategies.\n",
    "\n",
    "- Capital Capacity\n",
    "- Transaction Costs\n",
    "- Rebalancing Frequency"
   ]
  },
  {
   "cell_type": "code",
   "execution_count": null,
   "metadata": {},
   "outputs": [],
   "source": []
  }
 ],
 "metadata": {
  "kernelspec": {
   "display_name": "Python 3.5",
   "language": "python",
   "name": "py35"
  },
  "language_info": {
   "codemirror_mode": {
    "name": "ipython",
    "version": 3
   },
   "file_extension": ".py",
   "mimetype": "text/x-python",
   "name": "python",
   "nbconvert_exporter": "python",
   "pygments_lexer": "ipython3",
   "version": "3.5.9"
  }
 },
 "nbformat": 4,
 "nbformat_minor": 2
}
